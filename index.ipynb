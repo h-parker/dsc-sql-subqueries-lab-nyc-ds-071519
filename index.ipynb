{
 "cells": [
  {
   "cell_type": "markdown",
   "metadata": {},
   "source": [
    "# SQL Subqueries - Lab\n",
    "\n",
    "## Introduction\n",
    "\n",
    "Now that you've seen how subqueries work, it's time to get some practice writing them! Not all of the queries will require subqueries, but all will be a bit more complex and require some thought and review about aggregates, grouping, ordering, filtering, joins and subqueries. Good luck!  \n",
    "\n",
    "## Objectives\n",
    "\n",
    "You will be able to:\n",
    "\n",
    "* Write subqueries to decompose complex queries\n",
    "\n",
    "## CRM Database Schema\n",
    "\n",
    "Once again, here's the schema for the CRM database you'll continue to practice with.\n",
    "\n",
    "<img src=\"images/Database-Schema.png\" width=\"600\">\n",
    "\n",
    "## Connect to the Database\n",
    "\n",
    "As usual, start by importing the necessary packages and connecting to the database **data.sqlite**."
   ]
  },
  {
   "cell_type": "code",
   "execution_count": 1,
   "metadata": {},
   "outputs": [],
   "source": [
    "#Your code here; import the necessary packages\n",
    "import sqlite3\n",
    "conn = sqlite3.connect('data.sqlite')\n",
    "c = conn.cursor()"
   ]
  },
  {
   "cell_type": "markdown",
   "metadata": {},
   "source": [
    "## Write an Equivalent Query using a Subquery\n",
    "\n",
    "```SQL\n",
    "select customerNumber,\n",
    "       contactLastName,\n",
    "       contactFirstName\n",
    "       from customers\n",
    "       join orders \n",
    "       using(customerNumber)\n",
    "       where orderDate = '2003-01-31';\n",
    "```"
   ]
  },
  {
   "cell_type": "code",
   "execution_count": 3,
   "metadata": {},
   "outputs": [
    {
     "data": {
      "text/plain": [
       "[('141', 'Freyre', 'Diego ')]"
      ]
     },
     "execution_count": 3,
     "metadata": {},
     "output_type": "execute_result"
    }
   ],
   "source": [
    "#Your code here; use a subquery. No join will be necessary.\n",
    "c.execute(\"\"\"SELECT customerNumber, contactLastName, contactFirstName\n",
    "                    FROM customers\n",
    "                    WHERE customerNumber IN \n",
    "                        (SELECT customerNumber \n",
    "                                FROM orders\n",
    "                                WHERE orderDate = '2003-01-31')\"\"\")\n",
    "c.fetchall()"
   ]
  },
  {
   "cell_type": "markdown",
   "metadata": {},
   "source": [
    "## Select the Total Number of Orders for Each Product Name\n",
    "\n",
    "Sort the results by the total number of items sold for that product."
   ]
  },
  {
   "cell_type": "code",
   "execution_count": 33,
   "metadata": {},
   "outputs": [
    {
     "data": {
      "text/plain": [
       "[(1808, '1992 Ferrari 360 Spider red'),\n",
       " (1111, '1937 Lincoln Berline'),\n",
       " (1085, 'American Airlines: MD-11S'),\n",
       " (1076, '1941 Chevrolet Special Deluxe Cabriolet'),\n",
       " (1074, '1930 Buick Marquette Phaeton'),\n",
       " (1061, '1940s Ford truck'),\n",
       " (1057, '1969 Harley Davidson Ultimate Chopper'),\n",
       " (1056, '1957 Chevy Pickup'),\n",
       " (1053, '1964 Mercedes Tour Bus'),\n",
       " (1052, '1956 Porsche 356A Coupe'),\n",
       " (1051, 'Corsair F4U ( Bird Cage)'),\n",
       " (1047, 'F/A 18 Hornet 1/72'),\n",
       " (1040, '1980s Black Hawk Helicopter'),\n",
       " (1038, '1913 Ford Model T Speedster'),\n",
       " (1033, '1997 BMW R 1100 S'),\n",
       " (1030, '1972 Alfa Romeo GTA'),\n",
       " (1029, '1962 Volkswagen Microbus'),\n",
       " (1028, '2002 Suzuki XREO'),\n",
       " (1020, 'The USS Constitution Ship'),\n",
       " (1019, '2001 Ferrari Enzo'),\n",
       " (1015, '1960 BSA Gold Star DBD34'),\n",
       " (1014, '1997 BMW F650 ST'),\n",
       " (1013, '1957 Corvette Convertible'),\n",
       " (1011, '18th century schooner'),\n",
       " (1009, '1900s Vintage Tri-Plane'),\n",
       " (999, '1940 Ford Pickup Truck'),\n",
       " (999, '1996 Moto Guzzi 1100i'),\n",
       " (998, '1926 Ford Fire Engine'),\n",
       " (997, '1982 Camaro Z28'),\n",
       " (995, '1939 Cadillac Limousine'),\n",
       " (992, '1917 Maxwell Touring Car'),\n",
       " (992, '1969 Dodge Charger'),\n",
       " (992, '2002 Yamaha YZR M1'),\n",
       " (991, '1912 Ford Model T Delivery Wagon'),\n",
       " (990, '1904 Buick Runabout'),\n",
       " (988, '1996 Peterbilt 379 Stake Bed with Outrigger'),\n",
       " (986, '1998 Chrysler Plymouth Prowler'),\n",
       " (985, '1934 Ford V8 Coupe'),\n",
       " (985, '2003 Harley-Davidson Eagle Drag Bike'),\n",
       " (984, 'America West Airlines B757-200'),\n",
       " (983, '1936 Chrysler Airflow'),\n",
       " (983, '1958 Chevy Corvette Limited Edition'),\n",
       " (979, 'Diamond T620 Semi-Skirted Tanker'),\n",
       " (976, '1970 Dodge Coronet'),\n",
       " (974, '1969 Dodge Super Bee'),\n",
       " (973, 'ATA: B757-300'),\n",
       " (972, '1928 British Royal Navy Airplane'),\n",
       " (972, '1928 Ford Phaeton Deluxe'),\n",
       " (972, '1948 Porsche 356-A Roadster'),\n",
       " (972, '1958 Setra Bus'),\n",
       " (969, '1971 Alpine Renault 1600s'),\n",
       " (966, '1962 City of Detroit Streetcar'),\n",
       " (966, '1999 Yamaha Speed Boat'),\n",
       " (965, '1969 Ford Falcon'),\n",
       " (963, '1969 Corvair Monza'),\n",
       " (961, '1952 Alpine Renault 1300'),\n",
       " (960, '1936 Mercedes-Benz 500K Special Roadster'),\n",
       " (960, 'Boeing X-32A JSF'),\n",
       " (959, '1957 Vespa GS150'),\n",
       " (958, 'Pont Yacht'),\n",
       " (957, '1932 Model A Ford J-Coupe'),\n",
       " (955, '1938 Cadillac V-16 Presidential Limousine'),\n",
       " (955, '1954 Greyhound Scenicruiser'),\n",
       " (952, 'The Titanic'),\n",
       " (949, '1949 Jaguar XK 120'),\n",
       " (948, '1948 Porsche Type 356 Roadster'),\n",
       " (947, '1982 Ducati 900 Monster'),\n",
       " (947, '1993 Mazda RX-7'),\n",
       " (945, '1936 Harley Davidson El Knucklehead'),\n",
       " (945, '1970 Triumph Spitfire'),\n",
       " (941, '1961 Chevrolet Impala'),\n",
       " (940, '1900s Vintage Bi-Plane'),\n",
       " (937, '1939 Chevrolet Deluxe Coupe'),\n",
       " (934, \"1950's Chicago Surface Lines Streetcar\"),\n",
       " (934, 'The Schooner Bluenose'),\n",
       " (933, '1968 Ford Mustang'),\n",
       " (932, '1962 LanciaA Delta 16V'),\n",
       " (925, '1968 Dodge Charger'),\n",
       " (923, '1940 Ford Delivery Sedan'),\n",
       " (918, '1917 Grand Touring Sedan'),\n",
       " (918, 'Collectable Wooden Train'),\n",
       " (917, '1995 Honda Civic'),\n",
       " (917, 'P-51-D Mustang'),\n",
       " (915, '1966 Shelby Cobra 427 S/C'),\n",
       " (915, '1976 Ford Gran Torino'),\n",
       " (914, '1965 Aston Martin DB5'),\n",
       " (912, '1982 Lamborghini Diablo'),\n",
       " (911, '1980’s GM Manhattan Express'),\n",
       " (907, '18th Century Vintage Horse Carriage'),\n",
       " (906, '1982 Ducati 996 R'),\n",
       " (900, '1970 Plymouth Hemi Cuda'),\n",
       " (898, '1974 Ducati 350 Mk3 Desmo'),\n",
       " (898, 'The Mayflower'),\n",
       " (897, 'HMS Bounty'),\n",
       " (896, 'The Queen Mary'),\n",
       " (894, '2002 Chevy Corvette'),\n",
       " (894, 'American Airlines: B767-300'),\n",
       " (884, '1937 Horch 930V Limousine'),\n",
       " (883, '1903 Ford Model A'),\n",
       " (880, '1928 Mercedes-Benz SSK'),\n",
       " (873, '1952 Citroen-15CV'),\n",
       " (870, '1969 Chevrolet Camaro Z28'),\n",
       " (867, '1992 Porsche Cayenne Turbo Silver'),\n",
       " (866, '1932 Alfa Romeo 8C2300 Spider Sport'),\n",
       " (855, '1999 Indy 500 Monte Carlo SS'),\n",
       " (832, '1911 Ford Town Car'),\n",
       " (824, '1936 Mercedes Benz 500k Roadster'),\n",
       " (803, '1970 Chevy Chevelle SS 454'),\n",
       " (767, '1957 Ford Thunderbird')]"
      ]
     },
     "execution_count": 33,
     "metadata": {},
     "output_type": "execute_result"
    }
   ],
   "source": [
    "# for each product name, sum up all the quantities ordered of that product name\n",
    "# HOW TF R U SUPPOSED TO DO THIS WITH SUBQUERIES????\n",
    "c.execute(\"\"\"SELECT SUM(quantityOrdered) AS total_number_of_orders, productName \n",
    "                    FROM orderdetails\n",
    "                    JOIN products USING(productCode)\n",
    "                    GROUP BY productName\n",
    "                    ORDER BY total_number_of_orders DESC\"\"\")\n",
    "c.fetchall()"
   ]
  },
  {
   "cell_type": "markdown",
   "metadata": {},
   "source": [
    "## Select the Product Name and the  Total Number of People Who Have Ordered Each Product\n",
    "\n",
    "Sort the results in descending order."
   ]
  },
  {
   "cell_type": "code",
   "execution_count": 22,
   "metadata": {},
   "outputs": [
    {
     "data": {
      "text/plain": [
       "[('1165', 18, '1949 Jaguar XK 120'),\n",
       " ('1165', 18, '1952 Citroen-15CV'),\n",
       " ('1165', 19, '1958 Chevy Corvette Limited Edition'),\n",
       " ('1165', 18, '1969 Chevrolet Camaro Z28'),\n",
       " ('1165', 18, '2002 Chevy Corvette')]"
      ]
     },
     "execution_count": 22,
     "metadata": {},
     "output_type": "execute_result"
    }
   ],
   "source": [
    "# c.execute(\"\"\"SELECT COUNT(DISTINCT c.customerNumber) total_num_of_people, p.productName\n",
    "#                 FROM customers c\n",
    "#                 JOIN orders USING('customerNumber')\n",
    "#                 JOIN orderdetails USING ('orderNumber')\n",
    "#                 JOIN products p USING('productCode')\n",
    "#                 GROUP BY p.productName\n",
    "#                 ORDER BY total_num_of_people DESC\"\"\")\n",
    "# c.fetchall()\n",
    "\n",
    "#BELOW: This gets all products that've been sold by < 20 people\n",
    "c.execute(\"\"\"SELECT e.employeeNumber, COUNT(DISTINCT c.customerNumber) total_num_of_people, p.productName\n",
    "                            FROM employees e\n",
    "                            JOIN customers c ON e.employeeNumber = c.salesRepEmployeeNumber\n",
    "                            JOIN orders USING('customerNumber')\n",
    "                            JOIN orderdetails USING ('orderNumber')\n",
    "                            JOIN products p USING('productCode')\n",
    "                            GROUP BY p.productName\n",
    "                            HAVING total_num_of_people < 20\"\"\")\n",
    "c.fetchall()"
   ]
  },
  {
   "cell_type": "markdown",
   "metadata": {},
   "source": [
    "## Select the Employee Number, Office Code, City (of the office), and Name (First and Last) of those Employees who Sold Products that Have Been Ordered by Less Then 20 people.\n",
    "\n",
    "This problem is a bit tougher. To start, think about how you might break the problem up. Be sure that your results only list each employee once."
   ]
  },
  {
   "cell_type": "code",
   "execution_count": 58,
   "metadata": {},
   "outputs": [
    {
     "data": {
      "text/plain": [
       "[('1370', '4', 'Paris', 'Gerard', 'Hernandez'),\n",
       " ('1501', '7', 'London', 'Larry', 'Bott'),\n",
       " ('1337', '4', 'Paris', 'Loui', 'Bondur'),\n",
       " ('1166', '1', 'San Francisco', 'Leslie', 'Thompson'),\n",
       " ('1286', '3', 'NYC', 'Foon Yue', 'Tseng'),\n",
       " ('1612', '6', 'Sydney', 'Peter', 'Marsh'),\n",
       " ('1611', '6', 'Sydney', 'Andy', 'Fixter'),\n",
       " ('1401', '4', 'Paris', 'Pamela', 'Castillo'),\n",
       " ('1621', '5', 'Tokyo', 'Mami', 'Nishi'),\n",
       " ('1323', '3', 'NYC', 'George', 'Vanauf'),\n",
       " ('1165', '1', 'San Francisco', 'Leslie', 'Jennings'),\n",
       " ('1702', '4', 'Paris', 'Martin', 'Gerard'),\n",
       " ('1216', '2', 'Boston', 'Steve', 'Patterson'),\n",
       " ('1188', '2', 'Boston', 'Julie', 'Firrelli'),\n",
       " ('1504', '7', 'London', 'Barry', 'Jones')]"
      ]
     },
     "execution_count": 58,
     "metadata": {},
     "output_type": "execute_result"
    }
   ],
   "source": [
    "# c.execute(\"\"\"SELECT DISTINCT e.employeeNumber, o.officeCode, o.city, e.firstName, e.lastName\n",
    "#                     FROM employees AS e\n",
    "#                     JOIN offices AS o USING(officeCode)\n",
    "#                     WHERE e.employeeNumber IN \n",
    "#                     (SELECT e.employeeNumber, COUNT(DISTINCT c.customerNumber) AS total_num_of_people, \n",
    "#                             p.productName\n",
    "#                             FROM employees AS e\n",
    "#                             JOIN customers AS c ON e.employeeNumber = c.salesRepEmployeeNumber\n",
    "#                             JOIN orders USING('customerNumber')\n",
    "#                             JOIN orderdetails USING ('orderNumber')\n",
    "#                             JOIN products AS p USING('productCode')\n",
    "#                             GROUP BY p.productName\n",
    "#                             HAVING total_num_of_people < 20\n",
    "#                     )\n",
    "                    \n",
    "#             \"\"\")\n",
    "# c.fetchall()\n",
    "\n",
    "c.execute(\"\"\"SELECT DISTINCT e.employeeNumber, o.officeCode, o.city, e.firstName, e.lastName\n",
    "                    FROM employees e\n",
    "                    JOIN offices o USING(officeCode)\n",
    "                    JOIN customers c ON e.employeeNumber = c.salesRepEmployeeNumber\n",
    "                    JOIN orders USING (customerNumber)\n",
    "                    JOIN orderdetails USING (orderNumber)\n",
    "                    WHERE productCode IN \n",
    "                    (SELECT productCode\n",
    "                            FROM products \n",
    "                            JOIN orderdetails USING(productCode)\n",
    "                            JOIN orders USING(orderNumber)\n",
    "                            JOIN customers USING(customerNumber)\n",
    "                            JOIN employees ON salesRepEmployeeNumber = employeeNumber\n",
    "                            GROUP BY productCode\n",
    "                            HAVING COUNT(DISTINCT customerNumber) < 20\n",
    "                    )\n",
    "\n",
    "            \"\"\")\n",
    "c.fetchall()"
   ]
  },
  {
   "cell_type": "markdown",
   "metadata": {},
   "source": [
    "## Select the Employee Number, Name (First and Last) and Number of Customers of Employees Who's Customers Have an Average Credit Limit of Over 15K"
   ]
  },
  {
   "cell_type": "code",
   "execution_count": 64,
   "metadata": {},
   "outputs": [
    {
     "data": {
      "text/plain": [
       "[('1165', 'Leslie', 'Jennings', 6),\n",
       " ('1166', 'Leslie', 'Thompson', 6),\n",
       " ('1188', 'Julie', 'Firrelli', 6),\n",
       " ('1216', 'Steve', 'Patterson', 6),\n",
       " ('1286', 'Foon Yue', 'Tseng', 7),\n",
       " ('1323', 'George', 'Vanauf', 8),\n",
       " ('1337', 'Loui', 'Bondur', 6),\n",
       " ('1370', 'Gerard', 'Hernandez', 7),\n",
       " ('1401', 'Pamela', 'Castillo', 10),\n",
       " ('1501', 'Larry', 'Bott', 8),\n",
       " ('1504', 'Barry', 'Jones', 9),\n",
       " ('1611', 'Andy', 'Fixter', 5),\n",
       " ('1612', 'Peter', 'Marsh', 5),\n",
       " ('1621', 'Mami', 'Nishi', 5),\n",
       " ('1702', 'Martin', 'Gerard', 6)]"
      ]
     },
     "execution_count": 64,
     "metadata": {},
     "output_type": "execute_result"
    }
   ],
   "source": [
    "c.execute(\"\"\"SELECT e.employeeNumber, e.firstName, e.lastName, COUNT(customerNumber)\n",
    "                    FROM employees e\n",
    "                    JOIN customers c ON e.employeeNumber = c.salesRepEmployeeNumber\n",
    "                    WHERE c.creditLimit > 15000\n",
    "                    GROUP BY e.employeeNumber\n",
    "                    ORDER BY e.employeeNumber\n",
    "          \"\"\")\n",
    "\n",
    "c.fetchall()"
   ]
  },
  {
   "cell_type": "markdown",
   "metadata": {},
   "source": [
    "## Summary\n",
    "\n",
    "In this lesson, you got to practice some more complex SQL queries, some of which required subqueries. There's still plenty more SQL to be had though; hope you've been enjoying some of these puzzles!"
   ]
  }
 ],
 "metadata": {
  "kernelspec": {
   "display_name": "Python 3",
   "language": "python",
   "name": "python3"
  },
  "language_info": {
   "codemirror_mode": {
    "name": "ipython",
    "version": 3
   },
   "file_extension": ".py",
   "mimetype": "text/x-python",
   "name": "python",
   "nbconvert_exporter": "python",
   "pygments_lexer": "ipython3",
   "version": "3.7.3"
  }
 },
 "nbformat": 4,
 "nbformat_minor": 2
}
